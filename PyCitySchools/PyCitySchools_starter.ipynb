{
 "cells": [
  {
   "attachments": {},
   "cell_type": "markdown",
   "metadata": {},
   "source": [
    "### Note\n",
    "* Code for Student Analysis"
   ]
  },
  {
   "cell_type": "code",
   "execution_count": 75,
   "metadata": {},
   "outputs": [],
   "source": [
    "# Dependencies and Setup\n",
    "import pandas as pd\n",
    "\n",
    "# File to Load (Remember to Change These)\n",
    "school_data_to_load = \"Resources/schools_complete.csv\"\n",
    "student_data_to_load = \"Resources/students_complete.csv\"\n",
    "\n",
    "# Read School and Student Data File and store into Pandas DataFrames\n",
    "school_data = pd.read_csv(school_data_to_load)\n",
    "student_data = pd.read_csv(student_data_to_load)\n",
    "\n",
    "# Combine the data into a single dataset.  \n",
    "school_data_complete = pd.merge(student_data, school_data, how=\"left\", on=[\"school_name\", \"school_name\"])"
   ]
  },
  {
   "attachments": {},
   "cell_type": "markdown",
   "metadata": {},
   "source": [
    "## Local Government Area Summary"
   ]
  },
  {
   "cell_type": "code",
   "execution_count": 76,
   "metadata": {},
   "outputs": [
    {
     "data": {
      "text/html": [
       "<div>\n",
       "<style scoped>\n",
       "    .dataframe tbody tr th:only-of-type {\n",
       "        vertical-align: middle;\n",
       "    }\n",
       "\n",
       "    .dataframe tbody tr th {\n",
       "        vertical-align: top;\n",
       "    }\n",
       "\n",
       "    .dataframe thead th {\n",
       "        text-align: right;\n",
       "    }\n",
       "</style>\n",
       "<table border=\"1\" class=\"dataframe\">\n",
       "  <thead>\n",
       "    <tr style=\"text-align: right;\">\n",
       "      <th></th>\n",
       "      <th>Student ID</th>\n",
       "      <th>student_name</th>\n",
       "      <th>gender</th>\n",
       "      <th>year</th>\n",
       "      <th>school_name</th>\n",
       "      <th>reading_score</th>\n",
       "      <th>maths_score</th>\n",
       "      <th>School ID</th>\n",
       "      <th>type</th>\n",
       "      <th>size</th>\n",
       "      <th>budget</th>\n",
       "    </tr>\n",
       "  </thead>\n",
       "  <tbody>\n",
       "    <tr>\n",
       "      <th>0</th>\n",
       "      <td>0</td>\n",
       "      <td>Paul Bradley</td>\n",
       "      <td>M</td>\n",
       "      <td>9</td>\n",
       "      <td>Huang High School</td>\n",
       "      <td>96</td>\n",
       "      <td>94</td>\n",
       "      <td>0</td>\n",
       "      <td>Government</td>\n",
       "      <td>2917</td>\n",
       "      <td>1910635</td>\n",
       "    </tr>\n",
       "    <tr>\n",
       "      <th>1</th>\n",
       "      <td>1</td>\n",
       "      <td>Victor Smith</td>\n",
       "      <td>M</td>\n",
       "      <td>12</td>\n",
       "      <td>Huang High School</td>\n",
       "      <td>90</td>\n",
       "      <td>43</td>\n",
       "      <td>0</td>\n",
       "      <td>Government</td>\n",
       "      <td>2917</td>\n",
       "      <td>1910635</td>\n",
       "    </tr>\n",
       "    <tr>\n",
       "      <th>2</th>\n",
       "      <td>2</td>\n",
       "      <td>Kevin Rodriguez</td>\n",
       "      <td>M</td>\n",
       "      <td>12</td>\n",
       "      <td>Huang High School</td>\n",
       "      <td>41</td>\n",
       "      <td>76</td>\n",
       "      <td>0</td>\n",
       "      <td>Government</td>\n",
       "      <td>2917</td>\n",
       "      <td>1910635</td>\n",
       "    </tr>\n",
       "    <tr>\n",
       "      <th>3</th>\n",
       "      <td>3</td>\n",
       "      <td>Richard Scott</td>\n",
       "      <td>M</td>\n",
       "      <td>12</td>\n",
       "      <td>Huang High School</td>\n",
       "      <td>89</td>\n",
       "      <td>86</td>\n",
       "      <td>0</td>\n",
       "      <td>Government</td>\n",
       "      <td>2917</td>\n",
       "      <td>1910635</td>\n",
       "    </tr>\n",
       "    <tr>\n",
       "      <th>4</th>\n",
       "      <td>4</td>\n",
       "      <td>Bonnie Ray</td>\n",
       "      <td>F</td>\n",
       "      <td>9</td>\n",
       "      <td>Huang High School</td>\n",
       "      <td>87</td>\n",
       "      <td>69</td>\n",
       "      <td>0</td>\n",
       "      <td>Government</td>\n",
       "      <td>2917</td>\n",
       "      <td>1910635</td>\n",
       "    </tr>\n",
       "  </tbody>\n",
       "</table>\n",
       "</div>"
      ],
      "text/plain": [
       "   Student ID     student_name gender  year        school_name  reading_score  \\\n",
       "0           0     Paul Bradley      M     9  Huang High School             96   \n",
       "1           1     Victor Smith      M    12  Huang High School             90   \n",
       "2           2  Kevin Rodriguez      M    12  Huang High School             41   \n",
       "3           3    Richard Scott      M    12  Huang High School             89   \n",
       "4           4       Bonnie Ray      F     9  Huang High School             87   \n",
       "\n",
       "   maths_score  School ID        type  size   budget  \n",
       "0           94          0  Government  2917  1910635  \n",
       "1           43          0  Government  2917  1910635  \n",
       "2           76          0  Government  2917  1910635  \n",
       "3           86          0  Government  2917  1910635  \n",
       "4           69          0  Government  2917  1910635  "
      ]
     },
     "execution_count": 76,
     "metadata": {},
     "output_type": "execute_result"
    }
   ],
   "source": [
    "\n",
    "school_data_complete.head()\n",
    "\n",
    "# school_data_complete.info()\n"
   ]
  },
  {
   "cell_type": "code",
   "execution_count": 77,
   "metadata": {},
   "outputs": [
    {
     "data": {
      "text/html": [
       "<div>\n",
       "<style scoped>\n",
       "    .dataframe tbody tr th:only-of-type {\n",
       "        vertical-align: middle;\n",
       "    }\n",
       "\n",
       "    .dataframe tbody tr th {\n",
       "        vertical-align: top;\n",
       "    }\n",
       "\n",
       "    .dataframe thead th {\n",
       "        text-align: right;\n",
       "    }\n",
       "</style>\n",
       "<table border=\"1\" class=\"dataframe\">\n",
       "  <thead>\n",
       "    <tr style=\"text-align: right;\">\n",
       "      <th></th>\n",
       "      <th>Total Schools</th>\n",
       "      <th>Total Students</th>\n",
       "      <th>Total Budget</th>\n",
       "      <th>Average Maths Score</th>\n",
       "      <th>Average Reading Score</th>\n",
       "      <th>% Passing Maths</th>\n",
       "      <th>% Passing Reading</th>\n",
       "      <th>% Overall Passing</th>\n",
       "    </tr>\n",
       "  </thead>\n",
       "  <tbody>\n",
       "    <tr>\n",
       "      <th>0</th>\n",
       "      <td>15</td>\n",
       "      <td>39,170</td>\n",
       "      <td>$24,649,428.00</td>\n",
       "      <td>70.338192</td>\n",
       "      <td>69.980138</td>\n",
       "      <td>86.078632</td>\n",
       "      <td>84.426857</td>\n",
       "      <td>72.808272</td>\n",
       "    </tr>\n",
       "  </tbody>\n",
       "</table>\n",
       "</div>"
      ],
      "text/plain": [
       "   Total Schools Total Students    Total Budget  Average Maths Score  \\\n",
       "0             15         39,170  $24,649,428.00            70.338192   \n",
       "\n",
       "   Average Reading Score  % Passing Maths  % Passing Reading  \\\n",
       "0              69.980138        86.078632          84.426857   \n",
       "\n",
       "   % Overall Passing  \n",
       "0          72.808272  "
      ]
     },
     "execution_count": 77,
     "metadata": {},
     "output_type": "execute_result"
    }
   ],
   "source": [
    "\n",
    "# * Calculate the total number of schools\n",
    "\n",
    "total_school_number = len(school_data_complete[\"school_name\"].unique())\n",
    "# print (total_school_number)\n",
    "\n",
    "# * Calculate the total number of students\n",
    "\n",
    "total_student_number = school_data_complete[\"school_name\"].count()\n",
    "\n",
    "# print (total_student_number)\n",
    "\n",
    "# * Calculate the total budget\n",
    "\n",
    "total_budget = school_data[\"budget\"].sum()\n",
    "\n",
    "# print (total_budget)\n",
    "\n",
    "# * Calculate the average maths score \n",
    "\n",
    "total_avg_maths_score = school_data_complete[\"maths_score\"].mean()\n",
    "\n",
    "# print (total_avg_maths_score)\n",
    "\n",
    "# * Calculate the average reading score\n",
    "\n",
    "total_avg_reading_score = school_data_complete[\"reading_score\"].mean()\n",
    "\n",
    "# print (total_avg_reading_score)\n",
    "\n",
    "# * Calculate the percentage of students with a passing maths score (50 or greater)\n",
    "\n",
    "total_students_math_pass = len(school_data_complete.loc [school_data_complete[\"maths_score\"]>=50, :])\n",
    "\n",
    "total_per_math_pass = total_students_math_pass/total_student_number\n",
    "\n",
    "# print (total_per_math_pass)\n",
    "\n",
    "# * Calculate the percentage of students with a passing reading score (50 or greater)\n",
    "\n",
    "total_students_read_pass = len(school_data_complete.loc [school_data_complete[\"reading_score\"]>=50, :])\n",
    "\n",
    "total_per_read_pass = total_students_read_pass/total_student_number\n",
    "\n",
    "# print (total_per_read_pass)\n",
    "\n",
    "# * Calculate the percentage of students who passed maths **and** reading (% Overall Passing)\n",
    "\n",
    "total_st_pass_all = len(school_data_complete.loc [(school_data_complete[\"reading_score\"]>=50 ) & (school_data_complete[\"maths_score\"]>=50), :])\n",
    "\n",
    "total_per_pass_all =  total_st_pass_all / total_student_number\n",
    "\n",
    "# print (total_per_pass_all)\n",
    "# * Create a dataframe to hold the above results\n",
    "\n",
    "total_budget = float(total_budget)\n",
    "\n",
    "\n",
    "LGA_Dic = [{\n",
    "            \"Total Schools\" :   total_school_number, \n",
    "            \"Total Students\":   total_student_number,\n",
    "            \"Total Budget\"  :   total_budget,\n",
    "            \"Average Maths Score\":  total_avg_maths_score,\n",
    "            \"Average Reading Score\": total_avg_reading_score,\n",
    "            \"% Passing Maths\"   :   total_per_math_pass,\n",
    "            \"% Passing Reading\":    total_per_read_pass,\n",
    "            \"% Overall Passing\" :   total_per_pass_all                  \n",
    "            }]\n",
    "LGA_Dic\n",
    "\n",
    "# LGA_Dic[3].apply(\"${:.2f}\".format)\n",
    "\n",
    "LGA_DF = pd.DataFrame(LGA_Dic)\n",
    "\n",
    "# LGA_DF = LGA_DF[\"Total Budget\"].astype(float)\n",
    "\n",
    "# LGA_DF[\"Total Budget\"].apply(\"${:.2f}\".format)\n",
    "\n",
    "# inaccessible_df = inaccessible_df.astype({\"NUMBER_OF_BINS\": \"int\",\n",
    "#                                          \"NUMBER_OF_TOILETS\": \"int\",\n",
    "#                                          \"NUMBER_OF_TABLES\": \"int\"})\n",
    "# inaccessible_df.dtypes\n",
    "\n",
    "# LGA_DF[\"Total Budget\"].apply(\"${:.2f}\".format)\n",
    "# print(LGA_DF[\"Total Budget\"])\n",
    "\n",
    "\n",
    "# file_df[\"INCOME\"] = file_df[\"INCOME\"].map(\"${:,.2f}\".format)\n",
    "# file_df[\"COSTS\"] = file_df[\"COSTS\"].map(\"${:,.2f}\".format)\n",
    "# file_df[\"PERCENT30\"] = (file_df[\"PERCENT30\"]*100).map(\"{:.1f}%\".format)\n",
    "# file_df[\"PERCENT3050\"] = (file_df[\"PERCENT3050\"]*100).map(\"{:.1f}%\".format)\n",
    "# file_df[\"PERCENT50\"] = (file_df[\"PERCENT50\"]*100).map(\"{:.1f}%\".format)\n",
    "# file_df[\"PERCENT_NODATA\"] = (file_df[\"PERCENT_NODATA\"]*100).map(\"{:.1f}%\".format)\n",
    "# file_df[\"PERCENT_NOBURDEN\"] = (file_df[\"PERCENT_NOBURDEN\"]*100).map(\"{:.1f}%\".format)\n",
    "# file_df[\"TOTAL\"] = file_df[\"TOTAL\"].map(\"{:,}\".format)\n",
    "\n",
    "# file_df[\"INCOME\"] = file_df[\"INCOME\"].map(\"${:,.2f}\".format)\n",
    "LGA_DF[\"Total Students\"] = LGA_DF[\"Total Students\"].map(\"{:,}\".format)\n",
    "LGA_DF[\"Total Budget\"] = LGA_DF[\"Total Budget\"].map(\"${:,.2f}\".format)\n",
    "LGA_DF[\"% Passing Maths\"] = LGA_DF[\"% Passing Maths\"]*100\n",
    "LGA_DF[\"% Passing Reading\"] = LGA_DF[\"% Passing Reading\"]*100\n",
    "LGA_DF[\"% Overall Passing\"] = LGA_DF[\"% Overall Passing\"]*100\n",
    "\n",
    "LGA_DF\n",
    "\n",
    "# states_dicts = [{\"STATE\": \"Western Australia\", \"ABBREVIATION\": \"WA\"},\n",
    "#                 {\"STATE\": \"New South Wales\", \"ABBREVIATION\": \"NSW\"}]\n",
    "\n",
    "# states_df = pd.DataFrame(states_dicts)\n",
    "# states_df\n",
    "\n",
    "# * Optional: give the displayed data cleaner formatting\n",
    "\n",
    "\n",
    "\n"
   ]
  },
  {
   "cell_type": "markdown",
   "metadata": {},
   "source": [
    "## School Summary"
   ]
  },
  {
   "cell_type": "code",
   "execution_count": 91,
   "metadata": {},
   "outputs": [
    {
     "name": "stdout",
     "output_type": "stream",
     "text": [
      "    School ID            school_name         type  size   budget\n",
      "0           0      Huang High School   Government  2917  1910635\n",
      "1           1   Figueroa High School   Government  2949  1884411\n",
      "2           2    Shelton High School  Independent  1761  1056600\n",
      "3           3  Hernandez High School   Government  4635  3022020\n",
      "4           4    Griffin High School  Independent  1468   917500\n",
      "5           5     Wilson High School  Independent  2283  1319574\n",
      "6           6    Cabrera High School  Independent  1858  1081356\n",
      "7           7     Bailey High School   Government  4976  3124928\n",
      "8           8     Holden High School  Independent   427   248087\n",
      "9           9       Pena High School  Independent   962   585858\n",
      "10         10     Wright High School  Independent  1800  1049400\n",
      "11         11  Rodriguez High School   Government  3999  2547363\n",
      "12         12    Johnson High School   Government  4761  3094650\n",
      "13         13       Ford High School   Government  2739  1763916\n",
      "14         14     Thomas High School  Independent  1635  1043130\n"
     ]
    }
   ],
   "source": [
    "# * Create an overview table that summarises key metrics about each school, including:\n",
    "\n",
    "# school_data_complete_02= school_data_complete.set_index(\"school_name\")\n",
    "\n",
    "# school_data_complete_02 = school_data_complete_02.groupby(\"school_name\")\n",
    "\n",
    "# school_data_complete_02.head()\n",
    "\n",
    "#   * School Name\n",
    "school_summary_df = student_data.groupby(\"school_name\")\n",
    "\n",
    "school_passed_math = student_data.loc[(student_data.maths_score >= 50),:]\n",
    "\n",
    "school_passed_reading = student_data.loc[(student_data.reading_score >= 50),:]\n",
    "\n",
    "school_passed_overall = student_data.loc[(student_data.maths_score >= 50) & (student_data.reading_score >= 50),:]\n",
    "\n",
    "school_passed_math = school_passed_math.groupby(\"school_name\").count()\n",
    "\n",
    "school_passed_reading = school_passed_reading.groupby(\"school_name\").count()\n",
    "\n",
    "school_passed_overall = school_passed_overall.groupby(\"school_name\").count()\n",
    "\n",
    "school_passed_math.head()\n",
    "\n",
    "student_data_total = student_data\n",
    "\n",
    "#   * School Type\n",
    "\n",
    "student_data_total[\"Passed_math\"] = [1 if score >= 50 else 0 for score in student_data[\"maths_score\"]]\n",
    "\n",
    "student_data_total[\"Passed_reading\"] = [1 if score >= 50 else 0 for score in student_data[\"reading_score\"]]\n",
    "\n",
    "student_data_total[\"Passed_Overall\"] = student_data_total[\"Passed_math\"] * student_data_total[\"Passed_reading\"] \n",
    "\n",
    "\n",
    "student_data_total.head()\n",
    "\n",
    "student_data_per_school = student_data_total.groupby(\"school_name\")\n",
    "\n",
    "\n",
    "\n",
    "# Combine the data into a single dataset.  \n",
    "# school_summary = pd.merge(school_summary_df , school_data, how=\"left\", on=[\"school_name\", \"school_name\"])\n",
    "\n",
    "# school_summary\n",
    "\n",
    "#   * Total Students\n",
    "\n",
    "student_data_per_school[\"student_name\"].count()\n",
    "\n",
    "#   * Total School Budget\n",
    "\n",
    "print (school_data)\n",
    "#   * Per Student Budget\n",
    "\n",
    "\n",
    "#   * Average Maths Score\n",
    "#   * Average Reading Score\n",
    "#   * % Passing Maths\n",
    "#   * % Passing Reading\n",
    "#   * % Overall Passing (The percentage of students that passed maths **and** reading.)\n",
    "  \n",
    "# * Create a dataframe to hold the above results"
   ]
  },
  {
   "cell_type": "markdown",
   "metadata": {},
   "source": [
    "## Top Performing Schools (By % Overall Passing)"
   ]
  },
  {
   "cell_type": "markdown",
   "metadata": {},
   "source": [
    "* Sort and display the top five performing schools by % overall passing."
   ]
  },
  {
   "cell_type": "code",
   "execution_count": null,
   "metadata": {
    "scrolled": true
   },
   "outputs": [],
   "source": []
  },
  {
   "cell_type": "markdown",
   "metadata": {},
   "source": [
    "## Bottom Performing Schools (By % Overall Passing)"
   ]
  },
  {
   "cell_type": "markdown",
   "metadata": {},
   "source": [
    "* Sort and display the five worst-performing schools by % overall passing."
   ]
  },
  {
   "cell_type": "code",
   "execution_count": null,
   "metadata": {},
   "outputs": [],
   "source": []
  },
  {
   "cell_type": "markdown",
   "metadata": {
    "collapsed": true
   },
   "source": [
    "## Maths Scores by Year"
   ]
  },
  {
   "cell_type": "markdown",
   "metadata": {},
   "source": [
    "* Create a table that lists the average maths score for students of each year level (9, 10, 11, 12) at each school.\n",
    "\n",
    "  * Create a pandas series for each year. Hint: use a conditional statement.\n",
    "  \n",
    "  * Group each series by school\n",
    "  \n",
    "  * Combine the series into a dataframe\n",
    "  \n",
    "  * Optional: give the displayed data cleaner formatting"
   ]
  },
  {
   "cell_type": "code",
   "execution_count": null,
   "metadata": {},
   "outputs": [],
   "source": []
  },
  {
   "cell_type": "markdown",
   "metadata": {},
   "source": [
    "## Reading Score by Year"
   ]
  },
  {
   "cell_type": "markdown",
   "metadata": {},
   "source": [
    "* Perform the same operations as above for reading scores"
   ]
  },
  {
   "cell_type": "code",
   "execution_count": null,
   "metadata": {},
   "outputs": [],
   "source": []
  },
  {
   "cell_type": "markdown",
   "metadata": {},
   "source": [
    "## Scores by School Spending"
   ]
  },
  {
   "cell_type": "markdown",
   "metadata": {},
   "source": [
    "* Create a table that breaks down school performances based on average Spending Ranges (Per Student). Use 4 reasonable bins to group school spending. Include in the table each of the following:\n",
    "  * Average Maths Score\n",
    "  * Average Reading Score\n",
    "  * % Passing Maths\n",
    "  * % Passing Reading\n",
    "  * Overall Passing Rate (Average of the above two)"
   ]
  },
  {
   "cell_type": "code",
   "execution_count": null,
   "metadata": {},
   "outputs": [],
   "source": []
  },
  {
   "cell_type": "markdown",
   "metadata": {},
   "source": [
    "## Scores by School Size"
   ]
  },
  {
   "cell_type": "markdown",
   "metadata": {},
   "source": [
    "* Perform the same operations as above, based on school size."
   ]
  },
  {
   "cell_type": "code",
   "execution_count": null,
   "metadata": {
    "scrolled": true
   },
   "outputs": [],
   "source": []
  },
  {
   "cell_type": "markdown",
   "metadata": {},
   "source": [
    "## Scores by School Type"
   ]
  },
  {
   "cell_type": "markdown",
   "metadata": {},
   "source": [
    "* Perform the same operations as above, based on school type"
   ]
  },
  {
   "cell_type": "code",
   "execution_count": null,
   "metadata": {},
   "outputs": [],
   "source": []
  },
  {
   "cell_type": "code",
   "execution_count": null,
   "metadata": {},
   "outputs": [],
   "source": []
  }
 ],
 "metadata": {
  "anaconda-cloud": {},
  "kernel_info": {
   "name": "python3"
  },
  "kernelspec": {
   "display_name": "PythonData",
   "language": "python",
   "name": "python3"
  },
  "language_info": {
   "codemirror_mode": {
    "name": "ipython",
    "version": 3
   },
   "file_extension": ".py",
   "mimetype": "text/x-python",
   "name": "python",
   "nbconvert_exporter": "python",
   "pygments_lexer": "ipython3",
   "version": "3.7.7 (default, May  6 2020, 11:45:54) [MSC v.1916 64 bit (AMD64)]"
  },
  "latex_envs": {
   "LaTeX_envs_menu_present": true,
   "autoclose": false,
   "autocomplete": true,
   "bibliofile": "biblio.bib",
   "cite_by": "apalike",
   "current_citInitial": 1,
   "eqLabelWithNumbers": true,
   "eqNumInitial": 1,
   "hotkeys": {
    "equation": "Ctrl-E",
    "itemize": "Ctrl-I"
   },
   "labels_anchors": false,
   "latex_user_defs": false,
   "report_style_numbering": false,
   "user_envs_cfg": false
  },
  "nteract": {
   "version": "0.8.4"
  },
  "vscode": {
   "interpreter": {
    "hash": "4458ba6707590d02651ae783db6434aafac0fafe36dfdd3681ee7185b6f114ad"
   }
  }
 },
 "nbformat": 4,
 "nbformat_minor": 1
}
